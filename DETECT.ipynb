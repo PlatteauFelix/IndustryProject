{
 "cells": [
  {
   "cell_type": "markdown",
   "metadata": {
    "id": "FUkVOcib37Vk"
   },
   "source": [
    "# Preparation\n",
    "\n",
    "* train model\n",
    "* (optional) export model\n",
    "* locate file you want to detect"
   ]
  },
  {
   "cell_type": "markdown",
   "metadata": {
    "id": "JTleuStd5go5"
   },
   "source": [
    "### Pull yolov5 enviroment\n",
    "!!! NOTE: from now on we will execute everything from inside the yolov5 folder"
   ]
  },
  {
   "cell_type": "code",
   "execution_count": null,
   "metadata": {
    "id": "7QKjIKT440w1"
   },
   "outputs": [],
   "source": [
    "#clone YOLOv5\n",
    "!git clone https://github.com/ultralytics/yolov5\n",
    "%cd yolov5\n",
    "%pip install -r requirements.txt\n",
    "\n",
    "import torch\n",
    "import os\n",
    "from IPython.display import Image, clear_output  # to display images\n",
    "\n",
    "print(f\"Setup complete. Using torch {torch.__version__} ({torch.cuda.get_device_properties(0).name if torch.cuda.is_available() else 'CPU'})\")"
   ]
  },
  {
   "cell_type": "markdown",
   "metadata": {},
   "source": [
    "### Drop the file you want to detect inside folder"
   ]
  },
  {
   "cell_type": "markdown",
   "metadata": {
    "id": "JpJvFXaYNOwz"
   },
   "source": [
    "# Detect\n",
    "NOTE: you may have to change the paths"
   ]
  },
  {
   "cell_type": "code",
   "execution_count": null,
   "metadata": {
    "id": "BJVGvJa5NTn6"
   },
   "outputs": [],
   "source": [
    "!python detect.py --weights runs/train/exp/weights/best.pt --img 1280 --source video.mp4"
   ]
  }
 ],
 "metadata": {
  "language_info": {
   "name": "python"
  },
  "orig_nbformat": 4
 },
 "nbformat": 4,
 "nbformat_minor": 2
}
