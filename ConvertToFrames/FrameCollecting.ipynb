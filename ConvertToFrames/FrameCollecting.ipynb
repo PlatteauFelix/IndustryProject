{
 "cells": [
  {
   "cell_type": "code",
   "execution_count": 1,
   "metadata": {},
   "outputs": [],
   "source": [
    "import warnings\n",
    "warnings.filterwarnings('ignore')"
   ]
  },
  {
   "cell_type": "code",
   "execution_count": 2,
   "metadata": {
    "scrolled": true
   },
   "outputs": [
    {
     "name": "stdout",
     "output_type": "stream",
     "text": [
      "Requirement already satisfied: scikit-image in c:\\users\\viers\\appdata\\local\\programs\\python\\python310\\lib\\site-packages (0.19.2)\n",
      "Requirement already satisfied: scipy>=1.4.1 in c:\\users\\viers\\appdata\\local\\programs\\python\\python310\\lib\\site-packages (from scikit-image) (1.8.1)\n",
      "Requirement already satisfied: pillow!=7.1.0,!=7.1.1,!=8.3.0,>=6.1.0 in c:\\users\\viers\\appdata\\local\\programs\\python\\python310\\lib\\site-packages (from scikit-image) (9.1.1)\n",
      "Requirement already satisfied: networkx>=2.2 in c:\\users\\viers\\appdata\\local\\programs\\python\\python310\\lib\\site-packages (from scikit-image) (2.8.2)\n",
      "Requirement already satisfied: tifffile>=2019.7.26 in c:\\users\\viers\\appdata\\local\\programs\\python\\python310\\lib\\site-packages (from scikit-image) (2022.5.4)\n",
      "Requirement already satisfied: imageio>=2.4.1 in c:\\users\\viers\\appdata\\local\\programs\\python\\python310\\lib\\site-packages (from scikit-image) (2.19.2)\n",
      "Requirement already satisfied: numpy>=1.17.0 in c:\\users\\viers\\appdata\\local\\programs\\python\\python310\\lib\\site-packages (from scikit-image) (1.22.3)\n",
      "Requirement already satisfied: packaging>=20.0 in c:\\users\\viers\\appdata\\local\\programs\\python\\python310\\lib\\site-packages (from scikit-image) (21.3)\n",
      "Requirement already satisfied: PyWavelets>=1.1.1 in c:\\users\\viers\\appdata\\local\\programs\\python\\python310\\lib\\site-packages (from scikit-image) (1.3.0)\n",
      "Requirement already satisfied: pyparsing!=3.0.5,>=2.0.2 in c:\\users\\viers\\appdata\\local\\programs\\python\\python310\\lib\\site-packages (from packaging>=20.0->scikit-image) (2.4.7)\n"
     ]
    },
    {
     "name": "stderr",
     "output_type": "stream",
     "text": [
      "WARNING: Ignoring invalid distribution -pencv-python-headless (c:\\users\\viers\\appdata\\local\\programs\\python\\python310\\lib\\site-packages)\n",
      "WARNING: Ignoring invalid distribution -pencv-python-headless (c:\\users\\viers\\appdata\\local\\programs\\python\\python310\\lib\\site-packages)\n",
      "WARNING: Ignoring invalid distribution -pencv-python-headless (c:\\users\\viers\\appdata\\local\\programs\\python\\python310\\lib\\site-packages)\n",
      "WARNING: Ignoring invalid distribution -pencv-python-headless (c:\\users\\viers\\appdata\\local\\programs\\python\\python310\\lib\\site-packages)\n",
      "WARNING: Ignoring invalid distribution -pencv-python-headless (c:\\users\\viers\\appdata\\local\\programs\\python\\python310\\lib\\site-packages)\n",
      "WARNING: Ignoring invalid distribution -pencv-python-headless (c:\\users\\viers\\appdata\\local\\programs\\python\\python310\\lib\\site-packages)\n",
      "WARNING: There was an error checking the latest version of pip.\n"
     ]
    }
   ],
   "source": [
    "import sys\n",
    "!pip install scikit-image"
   ]
  },
  {
   "cell_type": "code",
   "execution_count": 3,
   "metadata": {},
   "outputs": [],
   "source": [
    "import numpy as np \n",
    "import cv2 as cv\n",
    "import os\n",
    "from time import time\n",
    "import asyncio\n",
    "from skimage.io import imread, imshow\n",
    "from matplotlib import pyplot as plt\n"
   ]
  },
  {
   "cell_type": "code",
   "execution_count": 4,
   "metadata": {
    "scrolled": true
   },
   "outputs": [
    {
     "name": "stdout",
     "output_type": "stream",
     "text": [
      "['cam4.mp4']\n"
     ]
    }
   ],
   "source": [
    "from os import walk\n",
    "TrainData = next(walk(\"../Data/cam\"), (None, None, []))[2] \n",
    "print(TrainData)"
   ]
  },
  {
   "cell_type": "code",
   "execution_count": 5,
   "metadata": {},
   "outputs": [
    {
     "name": "stdout",
     "output_type": "stream",
     "text": [
      "cam4.mp4  Read: True\n"
     ]
    }
   ],
   "source": [
    "path = \"../Data/cam/\"\n",
    "fpsLimit = 30\n",
    "async def getFrames(cap,index):\n",
    "    i=0\n",
    "    prev = 0\n",
    "    while (cap.isOpened()):\n",
    "        time_elapsed = time() - prev\n",
    "        ret, frame = cap.read()\n",
    "        if ret == False:\n",
    "            break\n",
    "        if time_elapsed > 1./fpsLimit:\n",
    "            prev = time()\n",
    "            cv.imwrite(str(path)+'frame_'+str(index)+'_'+str(i)+'.jpg', frame) \n",
    "            i+=1\n",
    "    \n",
    "#collect frames from al media in data map\n",
    "\n",
    "for i in range(0,len(TrainData)):\n",
    "    TrainCap = cv.VideoCapture('../Data/cam/'+ str(TrainData[i]))\n",
    "    await getFrames(TrainCap,i)\n",
    "    print(TrainData[i] + f\"  Read: {TrainCap.isOpened()}\")\n",
    "\n",
    "#collects frames from specific video\n",
    "#vidIndex is video u want to collect\n",
    "#vidIndex = 4\n",
    "#TrainCap = cv.VideoCapture(f'Data\\\\{TrainData[vidIndex]}')\n",
    "#await getFrames(TrainCap,vidIndex)\n",
    "#print(TrainData[0] + f\"  Read: {TrainCap.isOpened()}\")\n",
    "    "
   ]
  },
  {
   "cell_type": "markdown",
   "metadata": {},
   "source": [
    "<h1>Extra:<h1>\n"
   ]
  },
  {
   "cell_type": "code",
   "execution_count": null,
   "metadata": {},
   "outputs": [],
   "source": [
    "\n",
    "images = []\n",
    "path = \"./Frames/\"\n",
    "valid_images = [\".jpg\",\".gif\",\".png\"]\n",
    "for f in os.listdir(path):\n",
    "    ext = os.path.splitext(f)[1]\n",
    "    if ext.lower() not in valid_images:\n",
    "        continue\n",
    "    #images.append(imread(os.path.join(path,f)))\n",
    "    \n",
    "print(\"aantal training images: \", len(images))\n"
   ]
  },
  {
   "cell_type": "code",
   "execution_count": null,
   "metadata": {},
   "outputs": [],
   "source": [
    "path = \"./Frames/\"\n",
    "f = os.listdir(path)[1000]\n",
    "frame = cv.imread(os.path.join(path,'frame_0_4926.jpg'))\n",
    "frame = cv.cvtColor(frame, cv.COLOR_BGR2GRAY)\n",
    "frame = cv.GaussianBlur(frame, (5, 5), 1.4)\n",
    "edges = cv.Canny(frame,100,200)\n",
    "\n",
    "plt.figure(figsize=(20, 20))\n",
    "plt.subplot(121),plt.imshow(frame,cmap = 'gray')\n",
    "plt.title('Original Image'), plt.xticks([]), plt.yticks([])\n",
    "plt.subplot(122),plt.imshow(edges,cmap = 'gray')\n",
    "plt.title('Edge Image'), plt.xticks([]), plt.yticks([])\n",
    "plt.show()\n"
   ]
  },
  {
   "cell_type": "code",
   "execution_count": null,
   "metadata": {},
   "outputs": [],
   "source": [
    "plt.figure(figsize=(50, 50))\n",
    "plt.imshow(edges,cmap = 'gray')"
   ]
  },
  {
   "cell_type": "code",
   "execution_count": null,
   "metadata": {
    "scrolled": false
   },
   "outputs": [],
   "source": [
    "rho = 1  # distance resolution in pixels of the Hough grid\n",
    "theta = np.pi / 180  # angular resolution in radians of the Hough grid\n",
    "threshold = 15  # minimum number of votes (intersections in Hough grid cell)\n",
    "min_line_length = 50  # minimum number of pixels making up a line\n",
    "max_line_gap = 20  # maximum gap in pixels between connectable line segments\n",
    "line_image = np.copy(frame) * 0  # creating a blank to draw lines on\n",
    "\n",
    "# Run Hough on edge detected image\n",
    "# Output \"lines\" is an array containing endpoints of detected line segments\n",
    "lines = cv.HoughLinesP(edges, rho, theta, threshold, np.array([]),\n",
    "                    min_line_length, max_line_gap)\n",
    "\n",
    "for line in lines:\n",
    "    for x1,y1,x2,y2 in line:\n",
    "        cv.line(line_image,(x1,y1),(x2,y2),(255,0,0),5)\n",
    "# Draw the lines on the  image\n",
    "lines_edges = cv.addWeighted(frame, 0.8, line_image, 1, 0)\n",
    "\n",
    "plt.figure(figsize=(50, 50))\n",
    "plt.imshow(lines_edges)"
   ]
  },
  {
   "cell_type": "code",
   "execution_count": null,
   "metadata": {
    "scrolled": true
   },
   "outputs": [],
   "source": [
    "blur = cv.medianBlur(frame,7)\n",
    "\n",
    "plt.figure(figsize=(20, 20))\n",
    "plt.subplot(211),plt.imshow(frame,cmap = 'gray')\n",
    "plt.title('Original Image'), plt.xticks([]), plt.yticks([])\n",
    "plt.subplot(212),plt.imshow(blur,cmap = 'gray')\n",
    "plt.title('Blur Image'), plt.xticks([]), plt.yticks([])\n",
    "plt.show()"
   ]
  },
  {
   "cell_type": "code",
   "execution_count": null,
   "metadata": {},
   "outputs": [],
   "source": [
    "# finds the circles in the grayscale image using the Hough transform\n",
    "path = \"./Frames/\"\n",
    "frame = cv.imread(os.path.join(path,'frame_0_4926.jpg'))\n",
    "output = frame.copy()\n",
    "\n",
    "frame = cv.cvtColor(frame, cv.COLOR_BGR2GRAY)\n",
    "blur = cv.medianBlur(frame,7)\n",
    "\n",
    "height, width = frame.shape[:2]\n",
    "maxRadius = int(1.1*(width/12)/2)\n",
    "minRadius = int(0.02*(width/12)/2)\n",
    "print(minRadius)\n",
    "circles = cv.HoughCircles(image=blur, \n",
    "                           method=cv.HOUGH_GRADIENT, \n",
    "                           dp=1.2, \n",
    "                           minDist=2*minRadius,\n",
    "                           param1=80,\n",
    "                           param2=80,\n",
    "                           minRadius=minRadius,\n",
    "                           maxRadius=maxRadius                           \n",
    "                          )\n",
    "if circles is not None:\n",
    "    # convert the (x, y) coordinates and radius of the circles to integers\n",
    "    circlesRound = np.round(circles[0, :]).astype(\"int\")\n",
    "    # loop over the (x, y) coordinates and radius of the circles\n",
    "    for (x, y, r) in circlesRound:\n",
    "        cv.circle(output, (x, y), r, (0, 255, 0), 4)\n",
    "\n",
    "    plt.imshow(output)\n",
    "else:\n",
    "    print ('No circles found')\n"
   ]
  },
  {
   "cell_type": "code",
   "execution_count": null,
   "metadata": {},
   "outputs": [],
   "source": []
  }
 ],
 "metadata": {
  "kernelspec": {
   "display_name": "Python 3 (ipykernel)",
   "language": "python",
   "name": "python3"
  },
  "language_info": {
   "codemirror_mode": {
    "name": "ipython",
    "version": 3
   },
   "file_extension": ".py",
   "mimetype": "text/x-python",
   "name": "python",
   "nbconvert_exporter": "python",
   "pygments_lexer": "ipython3",
   "version": "3.10.4"
  }
 },
 "nbformat": 4,
 "nbformat_minor": 4
}
