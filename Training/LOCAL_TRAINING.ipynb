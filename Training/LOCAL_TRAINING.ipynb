{
 "cells": [
  {
   "cell_type": "markdown",
   "metadata": {
    "id": "FUkVOcib37Vk"
   },
   "source": [
    "# Preparation\n",
    "\n",
    "* label images in vott\n",
    "* make dataset in roboflow\n",
    "* upload labelled images to dataset\n",
    "* export dataset to yolov5"
   ]
  },
  {
   "cell_type": "markdown",
   "metadata": {},
   "source": [
    "# Local\n",
    "When working local (windows 10) and have a nvidia GPU: make a venv + install nvidia cuda + install pytorch for cuda\n",
    "\n",
    "https://pytorch.org/get-started/locally/"
   ]
  },
  {
   "cell_type": "code",
   "execution_count": null,
   "metadata": {},
   "outputs": [],
   "source": [
    "# python -m venv venv\n",
    "# .\\venv\\Scripts\\activate\n",
    "# pip install ipykernel\n",
    "# python -m ipykernel install --user --name venv\n",
    "# (optional) reload window\n",
    "# select venv as kernel"
   ]
  },
  {
   "cell_type": "code",
   "execution_count": null,
   "metadata": {
    "id": "plVrE3xqyifv"
   },
   "outputs": [],
   "source": [
    "# this can take a while and has no output in jupter notebook during install. If you want output install in terminal\n",
    "%pip install torch torchvision torchaudio --extra-index-url https://download.pytorch.org/whl/cu113"
   ]
  },
  {
   "cell_type": "code",
   "execution_count": null,
   "metadata": {},
   "outputs": [],
   "source": [
    "# check if pytorch detects your GPU\n",
    "import torch\n",
    "print(torch.cuda.is_available())\n",
    "print(torch.cuda.device_count())\n",
    "print(torch.cuda.current_device())\n",
    "print(torch.cuda.device(0))\n",
    "print(torch.cuda.get_device_name(0))\n",
    "print(torch.cuda.get_device_capability(0))\n",
    "print(torch.cuda.get_device_properties(0))"
   ]
  },
  {
   "cell_type": "markdown",
   "metadata": {},
   "source": [
    "# Training"
   ]
  },
  {
   "cell_type": "markdown",
   "metadata": {
    "id": "JTleuStd5go5"
   },
   "source": [
    "### Pull yolov5 enviroment\n",
    "!!! NOTE: from now on we will execute everything from inside the yolov5 folder"
   ]
  },
  {
   "cell_type": "code",
   "execution_count": null,
   "metadata": {
    "id": "7QKjIKT440w1"
   },
   "outputs": [],
   "source": [
    "#clone YOLOv5\n",
    "!git clone https://github.com/ultralytics/yolov5\n",
    "%cd yolov5\n",
    "%pip install -r yolov5/requirements.txt\n",
    "\n",
    "import torch\n",
    "import os\n",
    "from IPython.display import Image, clear_output  # to display images\n",
    "\n",
    "print(f\"Setup complete. Using torch {torch.__version__} ({torch.cuda.get_device_properties(0).name if torch.cuda.is_available() else 'CPU'})\")"
   ]
  },
  {
   "cell_type": "markdown",
   "metadata": {
    "id": "AOpF0WhQ5NBK"
   },
   "source": [
    "### (optional) install wandb to view perfomance while model is training"
   ]
  },
  {
   "cell_type": "code",
   "execution_count": null,
   "metadata": {
    "id": "7kk05Jfp5K1i"
   },
   "outputs": [],
   "source": [
    "# Weights & Biases  (optional)\n",
    "%pip install -q wandb\n",
    "import wandb\n",
    "wandb.login()\n",
    "# don't forget to authorize login"
   ]
  },
  {
   "cell_type": "markdown",
   "metadata": {
    "id": "utJMGl5MKr7i"
   },
   "source": [
    "### Download dataset images\n",
    "Generate new version in roboflow (if necessary) and export to yolov5 pytorch and drop inside yolov5 folder"
   ]
  },
  {
   "cell_type": "markdown",
   "metadata": {
    "id": "iNjv1vMpK3gF"
   },
   "source": [
    "### Train model\n",
    "* choose a model https://pytorch.org/hub/ultralytics_yolov5/\n",
    "* most of the time yolov5s is good enough\n",
    "* start with 300 epoch if you can\n",
    "* set image size at resolution of photo when it needs to detect small objects\n",
    "* set batch at -1 to use max allowed\n",
    "* (optional) if you've installed wandb: check progress at https://wandb.ai/home\n",
    "* (optional) use new model version: yolov5s6 or yolov5m6"
   ]
  },
  {
   "cell_type": "code",
   "execution_count": null,
   "metadata": {
    "id": "1cwF9kSqK5Ps"
   },
   "outputs": [],
   "source": [
    "!python train.py --img 1280 --batch -1 --epochs 300 --data labelled-frames-2/data.yaml --weights yolov5ms.pt"
   ]
  }
 ],
 "metadata": {
  "accelerator": "GPU",
  "colab": {
   "collapsed_sections": [],
   "name": "DLC_AI_TEMPLATE.ipynb",
   "provenance": []
  },
  "interpreter": {
   "hash": "143b891882f9f973a558471fc357750d5def766f83de42b103bfe17162546487"
  },
  "kernelspec": {
   "display_name": "venv",
   "language": "python",
   "name": "venv"
  },
  "language_info": {
   "codemirror_mode": {
    "name": "ipython",
    "version": 3
   },
   "file_extension": ".py",
   "mimetype": "text/x-python",
   "name": "python",
   "nbconvert_exporter": "python",
   "pygments_lexer": "ipython3",
   "version": "3.10.4"
  }
 },
 "nbformat": 4,
 "nbformat_minor": 1
}
