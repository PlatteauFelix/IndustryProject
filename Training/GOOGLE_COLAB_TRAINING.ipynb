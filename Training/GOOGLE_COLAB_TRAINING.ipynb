{
 "cells": [
  {
   "cell_type": "markdown",
   "metadata": {
    "id": "FUkVOcib37Vk"
   },
   "source": [
    "# Preparation\n",
    "\n",
    "* label images in vott\n",
    "* make dataset in roboflow\n",
    "* upload labelled images to dataset\n",
    "* export dataset to yolov5"
   ]
  },
  {
   "cell_type": "markdown",
   "metadata": {},
   "source": [
    "# Google collab\n",
    "When working in google colab: change runtime type in google collab to GPU in hardware accelerator (arrow next to connect in the right corner -> view resources -> change runtime type)\n",
    "\n",
    "Note: you cannot run google collab indefinitely, normally max 12 hours and you cannot be idle more than 3 hours, also don't close your browser else everything is gone"
   ]
  },
  {
   "cell_type": "code",
   "execution_count": null,
   "metadata": {
    "id": "B8tovxMsPzfP"
   },
   "outputs": [],
   "source": [
    "# check which GPU u got, most of the time it's a K80\n",
    "# if u want a T4 (better) stop runtime, make copy of notebook, open copy and start new runtime\n",
    "from tensorflow.python.client import device_lib\n",
    "device_lib.list_local_devices()"
   ]
  },
  {
   "cell_type": "markdown",
   "metadata": {},
   "source": [
    "# Training"
   ]
  },
  {
   "cell_type": "markdown",
   "metadata": {
    "id": "JTleuStd5go5"
   },
   "source": [
    "### Pull yolov5 enviroment\n",
    "!!! NOTE: from now on we will execute everything from inside the yolov5 folder"
   ]
  },
  {
   "cell_type": "code",
   "execution_count": null,
   "metadata": {
    "id": "7QKjIKT440w1"
   },
   "outputs": [],
   "source": [
    "#clone YOLOv5\n",
    "!git clone https://github.com/ultralytics/yolov5\n",
    "%cd yolov5\n",
    "%pip install -r requirements.txt\n",
    "\n",
    "import torch\n",
    "import os\n",
    "from IPython.display import Image, clear_output  # to display images\n",
    "\n",
    "print(f\"Setup complete. Using torch {torch.__version__} ({torch.cuda.get_device_properties(0).name if torch.cuda.is_available() else 'CPU'})\")"
   ]
  },
  {
   "cell_type": "markdown",
   "metadata": {
    "id": "AOpF0WhQ5NBK"
   },
   "source": [
    "### (optional) install wandb to view perfomance while model is training"
   ]
  },
  {
   "cell_type": "code",
   "execution_count": null,
   "metadata": {
    "id": "7kk05Jfp5K1i"
   },
   "outputs": [],
   "source": [
    "# Weights & Biases (optional)\n",
    "%pip install -q wandb\n",
    "import wandb\n",
    "wandb.login()\n",
    "# don't forget to authorize login"
   ]
  },
  {
   "cell_type": "markdown",
   "metadata": {
    "id": "utJMGl5MKr7i"
   },
   "source": [
    "### Pull dataset images\n",
    "(if code below is outdated) generate new version in roboflow and export to yolov5 pytorch and paste download code"
   ]
  },
  {
   "cell_type": "code",
   "execution_count": null,
   "metadata": {
    "id": "9RMurKfFKqf9"
   },
   "outputs": [],
   "source": [
    "%pip install roboflow\n",
    "from roboflow import Roboflow\n",
    "rf = Roboflow(api_key=\"lBeRX0ddTHzL4Dk8rJ1l\")\n",
    "project = rf.workspace(\"dlc-ai\").project(\"labelled-frames\")\n",
    "dataset = project.version(7).download(\"yolov5\")"
   ]
  },
  {
   "cell_type": "markdown",
   "metadata": {
    "id": "iNjv1vMpK3gF"
   },
   "source": [
    "### Train model\n",
    "* choose a model https://pytorch.org/hub/ultralytics_yolov5/\n",
    "* most of the time yolov5s is good enough\n",
    "* start with 300 epoch if you can\n",
    "* set image size at resolution of photo when it needs to detect small objects\n",
    "* set batch at -1 to use max allowed\n",
    "* (optional) if you've installed wandb: check progress at https://wandb.ai/home\n",
    "* (optional) use new model version: yolov5s6 or yolov5m6"
   ]
  },
  {
   "cell_type": "code",
   "execution_count": null,
   "metadata": {
    "id": "1cwF9kSqK5Ps"
   },
   "outputs": [],
   "source": [
    "!python train.py --img 1280 --batch -1 --epochs 300 --data labelled-frames-2/data.yaml --weights yolov5s.pt"
   ]
  },
  {
   "cell_type": "markdown",
   "metadata": {},
   "source": [
    "# Export model\n",
    "AFTER TRAINING: export your model for future use\n",
    "\n",
    "Note: you may have to change the path to latest run"
   ]
  },
  {
   "cell_type": "code",
   "execution_count": null,
   "metadata": {},
   "outputs": [],
   "source": [
    "from google.colab import files\n",
    "!zip -r model.zip runs/train/exp\n",
    "files.download('model.zip')"
   ]
  }
 ],
 "metadata": {
  "accelerator": "GPU",
  "colab": {
   "collapsed_sections": [],
   "name": "DLC_AI_TEMPLATE.ipynb",
   "provenance": []
  },
  "interpreter": {
   "hash": "143b891882f9f973a558471fc357750d5def766f83de42b103bfe17162546487"
  },
  "kernelspec": {
   "display_name": "venv",
   "language": "python",
   "name": "venv"
  },
  "language_info": {
   "codemirror_mode": {
    "name": "ipython",
    "version": 3
   },
   "file_extension": ".py",
   "mimetype": "text/x-python",
   "name": "python",
   "nbconvert_exporter": "python",
   "pygments_lexer": "ipython3",
   "version": "3.10.4"
  }
 },
 "nbformat": 4,
 "nbformat_minor": 1
}
