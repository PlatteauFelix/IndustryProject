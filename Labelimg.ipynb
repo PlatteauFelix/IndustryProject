{
 "cells": [
  {
   "cell_type": "code",
   "execution_count": 1,
   "metadata": {},
   "outputs": [],
   "source": [
    "#pip install ipykernel\n",
    "#py -m ipykernel install --user --name=venv\n"
   ]
  },
  {
   "cell_type": "code",
   "execution_count": 2,
   "metadata": {},
   "outputs": [],
   "source": [
    "import warnings\n",
    "warnings.filterwarnings('ignore')"
   ]
  },
  {
   "cell_type": "code",
   "execution_count": 3,
   "metadata": {},
   "outputs": [
    {
     "name": "stdout",
     "output_type": "stream",
     "text": [
      "Collecting pyqt5\n",
      "  Using cached PyQt5-5.15.6-cp36-abi3-win32.whl (5.3 MB)\n",
      "Collecting lxml\n",
      "  Using cached lxml-4.8.0-cp38-cp38-win32.whl (3.3 MB)\n",
      "Collecting PyQt5-Qt5>=5.15.2\n",
      "  Using cached PyQt5_Qt5-5.15.2-py3-none-win32.whl (43.4 MB)\n",
      "Collecting PyQt5-sip<13,>=12.8\n",
      "  Using cached PyQt5_sip-12.10.1-cp38-cp38-win32.whl (67 kB)\n",
      "Installing collected packages: PyQt5-Qt5, PyQt5-sip, lxml, pyqt5\n",
      "Successfully installed PyQt5-Qt5-5.15.2 PyQt5-sip-12.10.1 lxml-4.8.0 pyqt5-5.15.6\n"
     ]
    }
   ],
   "source": [
    "import sys\n",
    "!{sys.executable} -m pip install pyqt5 lxml\n"
   ]
  },
  {
   "cell_type": "code",
   "execution_count": 4,
   "metadata": {},
   "outputs": [],
   "source": [
    "import os\n"
   ]
  },
  {
   "cell_type": "code",
   "execution_count": 5,
   "metadata": {},
   "outputs": [],
   "source": [
    "labelPath = os.path.join('Tensorflow','Labelimg')\n",
    "labels = ['Ball','Players','Net']\n",
    "if not os.path.exists(labelPath):\n",
    "        os.mkdir(labelPath)\n",
    "        !git clone https://github.com/tzutalin/labelImg {labelPath}\n",
    "\n",
    "for label in labels:\n",
    "    if not os.path.exists(os.path.join('Labels',label)):\n",
    "        os.mkdir(os.path.join('Labels',label))"
   ]
  },
  {
   "cell_type": "code",
   "execution_count": 6,
   "metadata": {},
   "outputs": [],
   "source": [
    "if os.name == 'posix':\n",
    "    !make qt5py3\n",
    "if os.name =='nt':\n",
    "    !cd {labelPath} && pyrcc5 -o libs/resources.py resources.qrc"
   ]
  },
  {
   "cell_type": "code",
   "execution_count": 8,
   "metadata": {},
   "outputs": [
    {
     "name": "stdout",
     "output_type": "stream",
     "text": [
      "Image:C:\\Users\\viers\\OneDrive\\Bureaublad\\MCT\\sem4\\IndustryProject\\IndustryProject\\Frames\\frame_0_1015.jpg -> Annotation:C:/Users/viers/OneDrive/Bureaublad/MCT/sem4/IndustryProject/IndustryProject/Labels/Ball\\frame_0_1015.xml\n",
      "Image:C:\\Users\\viers\\OneDrive\\Bureaublad\\MCT\\sem4\\IndustryProject\\IndustryProject\\Frames\\frame_0_7887.jpg -> Annotation:C:/Users/viers/OneDrive/Bureaublad/MCT/sem4/IndustryProject/IndustryProject/Labels/Players\\frame_0_7887.xml\n",
      "Image:C:\\Users\\viers\\OneDrive\\Bureaublad\\MCT\\sem4\\IndustryProject\\IndustryProject\\Frames\\frame_0_3353.jpg -> Annotation:C:/Users/viers/OneDrive/Bureaublad/MCT/sem4/IndustryProject/IndustryProject/Labels/Players\\frame_0_3353.xml\n",
      "Image:C:\\Users\\viers\\OneDrive\\Bureaublad\\MCT\\sem4\\IndustryProject\\IndustryProject\\Frames\\frame_0_975.jpg -> Annotation:C:/Users/viers/OneDrive/Bureaublad/MCT/sem4/IndustryProject/IndustryProject/Labels/Ball\\frame_0_975.xml\n",
      "Image:C:\\Users\\viers\\OneDrive\\Bureaublad\\MCT\\sem4\\IndustryProject\\IndustryProject\\Frames\\frame_0_977.jpg -> Annotation:C:/Users/viers/OneDrive/Bureaublad/MCT/sem4/IndustryProject/IndustryProject/Labels/Ball\\frame_0_977.xml\n",
      "Image:C:\\Users\\viers\\OneDrive\\Bureaublad\\MCT\\sem4\\IndustryProject\\IndustryProject\\Frames\\frame_0_988.jpg -> Annotation:C:/Users/viers/OneDrive/Bureaublad/MCT/sem4/IndustryProject/IndustryProject/Labels/Ball\\frame_0_988.xml\n",
      "Image:C:\\Users\\viers\\OneDrive\\Bureaublad\\MCT\\sem4\\IndustryProject\\IndustryProject\\Frames\\frame_0_1015.jpg -> Annotation:C:/Users/viers/OneDrive/Bureaublad/MCT/sem4/IndustryProject/IndustryProject/Labels/Ball\\frame_0_1015.xml\n",
      "Image:C:\\Users\\viers\\OneDrive\\Bureaublad\\MCT\\sem4\\IndustryProject\\IndustryProject\\Frames\\frame_0_1042.jpg -> Annotation:C:/Users/viers/OneDrive/Bureaublad/MCT/sem4/IndustryProject/IndustryProject/Labels/Ball\\frame_0_1042.xml\n",
      "Image:C:\\Users\\viers\\OneDrive\\Bureaublad\\MCT\\sem4\\IndustryProject\\IndustryProject\\Frames\\frame_0_1366.jpg -> Annotation:C:/Users/viers/OneDrive/Bureaublad/MCT/sem4/IndustryProject/IndustryProject/Labels/Ball\\frame_0_1366.xml\n",
      "Image:C:\\Users\\viers\\OneDrive\\Bureaublad\\MCT\\sem4\\IndustryProject\\IndustryProject\\Frames\\frame_0_1369.jpg -> Annotation:C:/Users/viers/OneDrive/Bureaublad/MCT/sem4/IndustryProject/IndustryProject/Labels/Ball\\frame_0_1369.xml\n",
      "Image:C:\\Users\\viers\\OneDrive\\Bureaublad\\MCT\\sem4\\IndustryProject\\IndustryProject\\Frames\\frame_0_1372.jpg -> Annotation:C:/Users/viers/OneDrive/Bureaublad/MCT/sem4/IndustryProject/IndustryProject/Labels/Ball\\frame_0_1372.xml\n",
      "Image:C:\\Users\\viers\\OneDrive\\Bureaublad\\MCT\\sem4\\IndustryProject\\IndustryProject\\Frames\\frame_0_2975.jpg -> Annotation:C:/Users/viers/OneDrive/Bureaublad/MCT/sem4/IndustryProject/IndustryProject/Labels/Players\\frame_0_2975.xml\n",
      "Image:C:\\Users\\viers\\OneDrive\\Bureaublad\\MCT\\sem4\\IndustryProject\\IndustryProject\\Frames\\frame_0_2989.jpg -> Annotation:C:/Users/viers/OneDrive/Bureaublad/MCT/sem4/IndustryProject/IndustryProject/Labels/Ball\\frame_0_2989.xml\n",
      "Image:C:\\Users\\viers\\OneDrive\\Bureaublad\\MCT\\sem4\\IndustryProject\\IndustryProject\\Frames\\frame_0_2997.jpg -> Annotation:C:/Users/viers/OneDrive/Bureaublad/MCT/sem4/IndustryProject/IndustryProject/Labels/Ball\\frame_0_2997.xml\n",
      "Image:C:\\Users\\viers\\OneDrive\\Bureaublad\\MCT\\sem4\\IndustryProject\\IndustryProject\\Frames\\frame_0_3008.jpg -> Annotation:C:/Users/viers/OneDrive/Bureaublad/MCT/sem4/IndustryProject/IndustryProject/Labels/Ball\\frame_0_3008.xml\n",
      "Image:C:\\Users\\viers\\OneDrive\\Bureaublad\\MCT\\sem4\\IndustryProject\\IndustryProject\\Frames\\frame_0_3013.jpg -> Annotation:C:/Users/viers/OneDrive/Bureaublad/MCT/sem4/IndustryProject/IndustryProject/Labels/Ball\\frame_0_3013.xml\n",
      "Image:C:\\Users\\viers\\OneDrive\\Bureaublad\\MCT\\sem4\\IndustryProject\\IndustryProject\\Frames\\frame_0_3016.jpg -> Annotation:C:/Users/viers/OneDrive/Bureaublad/MCT/sem4/IndustryProject/IndustryProject/Labels/Net\\frame_0_3016.xml\n",
      "Image:C:\\Users\\viers\\OneDrive\\Bureaublad\\MCT\\sem4\\IndustryProject\\IndustryProject\\Frames\\frame_0_3066.jpg -> Annotation:C:/Users/viers/OneDrive/Bureaublad/MCT/sem4/IndustryProject/IndustryProject/Labels/Net\\frame_0_3066.xml\n",
      "Image:C:\\Users\\viers\\OneDrive\\Bureaublad\\MCT\\sem4\\IndustryProject\\IndustryProject\\Frames\\frame_0_3532.jpg -> Annotation:C:/Users/viers/OneDrive/Bureaublad/MCT/sem4/IndustryProject/IndustryProject/Labels/Net\\frame_0_3532.xml\n",
      "Image:C:\\Users\\viers\\OneDrive\\Bureaublad\\MCT\\sem4\\IndustryProject\\IndustryProject\\Frames\\frame_0_5702.jpg -> Annotation:C:/Users/viers/OneDrive/Bureaublad/MCT/sem4/IndustryProject/IndustryProject/Labels/Net\\frame_0_5702.xml\n",
      "Image:C:\\Users\\viers\\OneDrive\\Bureaublad\\MCT\\sem4\\IndustryProject\\IndustryProject\\Frames\\frame_0_5754.jpg -> Annotation:C:/Users/viers/OneDrive/Bureaublad/MCT/sem4/IndustryProject/IndustryProject/Labels/Net\\frame_0_5754.xml\n"
     ]
    }
   ],
   "source": [
    "!cd {labelPath} && python labelImg.py\n"
   ]
  },
  {
   "cell_type": "code",
   "execution_count": null,
   "metadata": {},
   "outputs": [],
   "source": []
  },
  {
   "cell_type": "code",
   "execution_count": null,
   "metadata": {},
   "outputs": [],
   "source": []
  },
  {
   "cell_type": "code",
   "execution_count": null,
   "metadata": {},
   "outputs": [],
   "source": []
  },
  {
   "cell_type": "code",
   "execution_count": null,
   "metadata": {},
   "outputs": [],
   "source": []
  }
 ],
 "metadata": {
  "kernelspec": {
   "display_name": "venv",
   "language": "python",
   "name": "venv"
  },
  "language_info": {
   "codemirror_mode": {
    "name": "ipython",
    "version": 3
   },
   "file_extension": ".py",
   "mimetype": "text/x-python",
   "name": "python",
   "nbconvert_exporter": "python",
   "pygments_lexer": "ipython3",
   "version": "3.8.1"
  }
 },
 "nbformat": 4,
 "nbformat_minor": 4
}
