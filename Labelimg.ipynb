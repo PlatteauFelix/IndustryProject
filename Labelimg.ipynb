{
 "cells": [
  {
   "cell_type": "code",
   "execution_count": 1,
   "metadata": {},
   "outputs": [],
   "source": [
    "import warnings\n",
    "warnings.filterwarnings('ignore')"
   ]
  },
  {
   "cell_type": "code",
   "execution_count": 10,
   "metadata": {
    "scrolled": false
   },
   "outputs": [
    {
     "name": "stdout",
     "output_type": "stream",
     "text": [
      "Requirement already satisfied: pyqt5 in c:\\users\\viers\\appdata\\local\\programs\\python\\python38-32\\lib\\site-packages (5.15.6)\n",
      "Requirement already satisfied: lxml in c:\\users\\viers\\appdata\\local\\programs\\python\\python38-32\\lib\\site-packages (4.8.0)\n",
      "Requirement already satisfied: PyQt5-Qt5>=5.15.2 in c:\\users\\viers\\appdata\\local\\programs\\python\\python38-32\\lib\\site-packages (from pyqt5) (5.15.2)\n",
      "Requirement already satisfied: PyQt5-sip<13,>=12.8 in c:\\users\\viers\\appdata\\local\\programs\\python\\python38-32\\lib\\site-packages (from pyqt5) (12.10.1)\n"
     ]
    },
    {
     "name": "stderr",
     "output_type": "stream",
     "text": [
      "WARNING: Ignoring invalid distribution -illow (c:\\users\\viers\\appdata\\local\\programs\\python\\python38-32\\lib\\site-packages)\n",
      "WARNING: Ignoring invalid distribution -atplotlib (c:\\users\\viers\\appdata\\local\\programs\\python\\python38-32\\lib\\site-packages)\n",
      "WARNING: Ignoring invalid distribution -illow (c:\\users\\viers\\appdata\\local\\programs\\python\\python38-32\\lib\\site-packages)\n",
      "WARNING: Ignoring invalid distribution -atplotlib (c:\\users\\viers\\appdata\\local\\programs\\python\\python38-32\\lib\\site-packages)\n",
      "WARNING: Ignoring invalid distribution -illow (c:\\users\\viers\\appdata\\local\\programs\\python\\python38-32\\lib\\site-packages)\n",
      "WARNING: Ignoring invalid distribution -atplotlib (c:\\users\\viers\\appdata\\local\\programs\\python\\python38-32\\lib\\site-packages)\n",
      "WARNING: Ignoring invalid distribution -illow (c:\\users\\viers\\appdata\\local\\programs\\python\\python38-32\\lib\\site-packages)\n",
      "WARNING: Ignoring invalid distribution -atplotlib (c:\\users\\viers\\appdata\\local\\programs\\python\\python38-32\\lib\\site-packages)\n",
      "WARNING: Ignoring invalid distribution -illow (c:\\users\\viers\\appdata\\local\\programs\\python\\python38-32\\lib\\site-packages)\n",
      "WARNING: Ignoring invalid distribution -atplotlib (c:\\users\\viers\\appdata\\local\\programs\\python\\python38-32\\lib\\site-packages)\n",
      "WARNING: Ignoring invalid distribution -illow (c:\\users\\viers\\appdata\\local\\programs\\python\\python38-32\\lib\\site-packages)\n",
      "WARNING: Ignoring invalid distribution -atplotlib (c:\\users\\viers\\appdata\\local\\programs\\python\\python38-32\\lib\\site-packages)\n"
     ]
    },
    {
     "name": "stdout",
     "output_type": "stream",
     "text": [
      "Collecting sip\n",
      "  Downloading sip-6.6.1-cp37-abi3-win32.whl (548 kB)\n",
      "     -------------------------------------- 548.6/548.6 kB 5.8 MB/s eta 0:00:00\n",
      "Requirement already satisfied: ply in c:\\users\\viers\\appdata\\local\\programs\\python\\python38-32\\lib\\site-packages (from sip) (3.11)\n",
      "Requirement already satisfied: packaging in c:\\users\\viers\\appdata\\local\\programs\\python\\python38-32\\lib\\site-packages (from sip) (20.4)\n",
      "Requirement already satisfied: toml in c:\\users\\viers\\appdata\\roaming\\python\\python38\\site-packages (from sip) (0.10.1)\n",
      "Requirement already satisfied: setuptools in c:\\users\\viers\\appdata\\local\\programs\\python\\python38-32\\lib\\site-packages (from sip) (62.1.0)\n",
      "Requirement already satisfied: six in c:\\users\\viers\\appdata\\roaming\\python\\python38\\site-packages (from packaging->sip) (1.14.0)\n",
      "Requirement already satisfied: pyparsing>=2.0.2 in c:\\users\\viers\\appdata\\local\\programs\\python\\python38-32\\lib\\site-packages (from packaging->sip) (2.4.7)\n",
      "Installing collected packages: sip\n",
      "Successfully installed sip-6.6.1\n"
     ]
    },
    {
     "name": "stderr",
     "output_type": "stream",
     "text": [
      "WARNING: Ignoring invalid distribution -illow (c:\\users\\viers\\appdata\\local\\programs\\python\\python38-32\\lib\\site-packages)\n",
      "WARNING: Ignoring invalid distribution -atplotlib (c:\\users\\viers\\appdata\\local\\programs\\python\\python38-32\\lib\\site-packages)\n",
      "WARNING: Ignoring invalid distribution -illow (c:\\users\\viers\\appdata\\local\\programs\\python\\python38-32\\lib\\site-packages)\n",
      "WARNING: Ignoring invalid distribution -atplotlib (c:\\users\\viers\\appdata\\local\\programs\\python\\python38-32\\lib\\site-packages)\n",
      "WARNING: Ignoring invalid distribution -illow (c:\\users\\viers\\appdata\\local\\programs\\python\\python38-32\\lib\\site-packages)\n",
      "WARNING: Ignoring invalid distribution -atplotlib (c:\\users\\viers\\appdata\\local\\programs\\python\\python38-32\\lib\\site-packages)\n",
      "WARNING: Ignoring invalid distribution -illow (c:\\users\\viers\\appdata\\local\\programs\\python\\python38-32\\lib\\site-packages)\n",
      "WARNING: Ignoring invalid distribution -atplotlib (c:\\users\\viers\\appdata\\local\\programs\\python\\python38-32\\lib\\site-packages)\n",
      "WARNING: Ignoring invalid distribution -illow (c:\\users\\viers\\appdata\\local\\programs\\python\\python38-32\\lib\\site-packages)\n",
      "WARNING: Ignoring invalid distribution -atplotlib (c:\\users\\viers\\appdata\\local\\programs\\python\\python38-32\\lib\\site-packages)\n",
      "WARNING: Ignoring invalid distribution -illow (c:\\users\\viers\\appdata\\local\\programs\\python\\python38-32\\lib\\site-packages)\n",
      "WARNING: Ignoring invalid distribution -atplotlib (c:\\users\\viers\\appdata\\local\\programs\\python\\python38-32\\lib\\site-packages)\n",
      "WARNING: Ignoring invalid distribution -illow (c:\\users\\viers\\appdata\\local\\programs\\python\\python38-32\\lib\\site-packages)\n",
      "WARNING: Ignoring invalid distribution -atplotlib (c:\\users\\viers\\appdata\\local\\programs\\python\\python38-32\\lib\\site-packages)\n"
     ]
    }
   ],
   "source": [
    "import sys\n",
    "!{sys.executable} -m pip install pyqt5 lxml\n",
    "!{sys.executable} -m pip install sip\n"
   ]
  },
  {
   "cell_type": "code",
   "execution_count": 8,
   "metadata": {},
   "outputs": [],
   "source": [
    "import os\n"
   ]
  },
  {
   "cell_type": "code",
   "execution_count": 13,
   "metadata": {},
   "outputs": [],
   "source": [
    "labelPath = os.path.join('Tensorflow','Labelimg')\n",
    "labels = ['Ball','Players','Net']\n",
    "if not os.path.exists(labelPath):\n",
    "        os.mkdir(labelPath)\n",
    "        !git clone https://github.com/tzutalin/labelImg {labelPath}\n",
    "\n",
    "for label in labels:\n",
    "    if not os.path.exists(os.path.join('Labels',label)):\n",
    "        os.mkdir(os.path.join('Labels',label))"
   ]
  },
  {
   "cell_type": "code",
   "execution_count": 4,
   "metadata": {},
   "outputs": [],
   "source": [
    "if os.name == 'posix':\n",
    "    !make qt5py3\n",
    "if os.name =='nt':\n",
    "    !cd {labelPath} && pyrcc5 -o libs/resources.py resources.qrc"
   ]
  },
  {
   "cell_type": "code",
   "execution_count": 11,
   "metadata": {},
   "outputs": [
    {
     "name": "stderr",
     "output_type": "stream",
     "text": [
      "Traceback (most recent call last):\n",
      "  File \"C:\\Users\\viers\\OneDrive\\Bureaublad\\MCT\\sem4\\IndustryProject\\IndustryProject\\Tensorflow\\Labels\\labelImg.py\", line 13, in <module>\n",
      "    from PyQt5.QtGui import *\n",
      "ModuleNotFoundError: No module named 'PyQt5'\n",
      "\n",
      "During handling of the above exception, another exception occurred:\n",
      "\n",
      "Traceback (most recent call last):\n",
      "  File \"C:\\Users\\viers\\OneDrive\\Bureaublad\\MCT\\sem4\\IndustryProject\\IndustryProject\\Tensorflow\\Labels\\labelImg.py\", line 22, in <module>\n",
      "    import sip\n",
      "ModuleNotFoundError: No module named 'sip'\n"
     ]
    }
   ],
   "source": [
    "!cd {labelPath} && python labelImg.py\n"
   ]
  },
  {
   "cell_type": "code",
   "execution_count": null,
   "metadata": {},
   "outputs": [],
   "source": []
  }
 ],
 "metadata": {
  "kernelspec": {
   "display_name": "Python 3",
   "language": "python",
   "name": "python3"
  },
  "language_info": {
   "codemirror_mode": {
    "name": "ipython",
    "version": 3
   },
   "file_extension": ".py",
   "mimetype": "text/x-python",
   "name": "python",
   "nbconvert_exporter": "python",
   "pygments_lexer": "ipython3",
   "version": "3.8.1"
  }
 },
 "nbformat": 4,
 "nbformat_minor": 4
}
