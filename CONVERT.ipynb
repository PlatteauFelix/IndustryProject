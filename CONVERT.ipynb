{
 "cells": [
  {
   "cell_type": "markdown",
   "id": "c76a71a8",
   "metadata": {},
   "source": [
    "# Preparation\n",
    "Make virtual environment"
   ]
  },
  {
   "cell_type": "code",
   "execution_count": null,
   "id": "799ba7aa",
   "metadata": {
    "vscode": {
     "languageId": "plaintext"
    }
   },
   "outputs": [],
   "source": [
    "# python -m venv venv\n",
    "# .\\venv\\Scripts\\activate\n",
    "# pip install -r .\\requirements.txt\n",
    "# pip install ipykernel\n",
    "# python -m ipykernel install --user --name venv\n",
    "# (optional) reload window\n",
    "# select venv as kernel"
   ]
  },
  {
   "cell_type": "markdown",
   "id": "2f0bb73c",
   "metadata": {},
   "source": [
    "# Convert video to frames"
   ]
  },
  {
   "cell_type": "code",
   "execution_count": null,
   "id": "0ef1b1ff",
   "metadata": {
    "vscode": {
     "languageId": "plaintext"
    }
   },
   "outputs": [],
   "source": [
    "import matplotlib.pyplot as plt\n",
    "import cv2\n",
    "import numpy as np\n",
    "from IPython.display import display, Image\n",
    "import ipywidgets as widgets\n",
    "from ipywidgets import Video\n",
    "import threading\n",
    "import os\n",
    "import time\n",
    "from skimage.io import imread, imshow"
   ]
  },
  {
   "cell_type": "code",
   "execution_count": null,
   "id": "8d898df1",
   "metadata": {},
   "outputs": [],
   "source": [
    "vidcap = cv2.VideoCapture('Data/video_1.mp4')\n",
    "fps = vidcap.get(cv2.CAP_PROP_FPS)\n",
    "print(fps)\n",
    "\n",
    "success, image = vidcap.read()\n",
    "count = 0\n",
    "while success:\n",
    "    cv2.imwrite(f'Frames/video_1/video_1_frame_{count}.jpg', image)     # save frame as JPEG file      \n",
    "    success, image = vidcap.read()\n",
    "    print('Read a new frame: ', success)\n",
    "    count += 1"
   ]
  },
  {
   "cell_type": "code",
   "execution_count": null,
   "id": "95572bd4",
   "metadata": {},
   "outputs": [],
   "source": [
    "vidcap = cv2.VideoCapture('Data/video_2.mp4')\n",
    "fps = vidcap.get(cv2.CAP_PROP_FPS)\n",
    "print(fps)\n",
    "\n",
    "success, image = vidcap.read()\n",
    "count = 0\n",
    "while success:\n",
    "    cv2.imwrite(f'Frames/video_2/video_2_frame_{count}.jpg', image)     # save frame as JPEG file      \n",
    "    success, image = vidcap.read()\n",
    "    print('Read a new frame: ', success)\n",
    "    count += 1"
   ]
  },
  {
   "cell_type": "code",
   "execution_count": null,
   "id": "51eff0b5",
   "metadata": {},
   "outputs": [],
   "source": [
    "vidcap = cv2.VideoCapture('Data/video_3.mp4')\n",
    "fps = vidcap.get(cv2.CAP_PROP_FPS)\n",
    "print(fps)\n",
    "\n",
    "success, image = vidcap.read()\n",
    "count = 0\n",
    "while success:\n",
    "    cv2.imwrite(f'Frames/video_3/video_3_frame_{count}.jpg', image)     # save frame as JPEG file      \n",
    "    success, image = vidcap.read()\n",
    "    print('Read a new frame: ', success)\n",
    "    count += 1"
   ]
  },
  {
   "cell_type": "code",
   "execution_count": null,
   "id": "0b45c5e2",
   "metadata": {},
   "outputs": [],
   "source": [
    "vidcap = cv2.VideoCapture('Data/video_4.mp4')\n",
    "fps = vidcap.get(cv2.CAP_PROP_FPS)\n",
    "print(fps)\n",
    "\n",
    "success, image = vidcap.read()\n",
    "count = 0\n",
    "while success:\n",
    "    cv2.imwrite(f'Frames/video_4/video_4_frame_{count}.jpg', image)     # save frame as JPEG file      \n",
    "    success, image = vidcap.read()\n",
    "    print('Read a new frame: ', success)\n",
    "    count += 1"
   ]
  },
  {
   "cell_type": "code",
   "execution_count": null,
   "id": "1378ce77",
   "metadata": {},
   "outputs": [],
   "source": [
    "vidcap = cv2.VideoCapture('Data/video_5.mp4')\n",
    "fps = vidcap.get(cv2.CAP_PROP_FPS)\n",
    "print(fps)\n",
    "\n",
    "success, image = vidcap.read()\n",
    "count = 0\n",
    "while success:\n",
    "    cv2.imwrite(f'Frames/video_5/video_5_frame_{count}.jpg', image)     # save frame as JPEG file      \n",
    "    success, image = vidcap.read()\n",
    "    print('Read a new frame: ', success)\n",
    "    count += 1"
   ]
  },
  {
   "cell_type": "markdown",
   "id": "cd8328e0",
   "metadata": {},
   "source": [
    "# Label images\n",
    "Label images in VOTT"
   ]
  }
 ],
 "metadata": {
  "kernelspec": {
   "display_name": "Python 3 (ipykernel)",
   "language": "python",
   "name": "python3"
  },
  "language_info": {
   "codemirror_mode": {
    "name": "ipython",
    "version": 3
   },
   "file_extension": ".py",
   "mimetype": "text/x-python",
   "name": "python",
   "nbconvert_exporter": "python",
   "pygments_lexer": "ipython3",
   "version": "3.9.7"
  }
 },
 "nbformat": 4,
 "nbformat_minor": 5
}
