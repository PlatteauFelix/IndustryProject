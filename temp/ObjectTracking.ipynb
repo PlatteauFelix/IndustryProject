{
 "cells": [
  {
   "cell_type": "code",
   "execution_count": 9,
   "id": "df145e7d",
   "metadata": {},
   "outputs": [],
   "source": [
    "from IPython.core.interactiveshell import InteractiveShell\n",
    "InteractiveShell.ast_node_interactivity = \"all\""
   ]
  },
  {
   "cell_type": "markdown",
   "id": "d0166789",
   "metadata": {},
   "source": [
    "<h1>DeepSort object tracking<h1>"
   ]
  },
  {
   "cell_type": "code",
   "execution_count": 3,
   "id": "4f78a27c",
   "metadata": {},
   "outputs": [
    {
     "name": "stdout",
     "output_type": "stream",
     "text": [
      "Submodule path 'deep_sort/deep/reid': checked out 'e34e3ae85fe02314e3a9a9a93c5828f4fed1b225'\n",
      "Submodule path 'yolov5': checked out '7c6a33564a84a0e78ec19da66ea6016d51c32e0a'\n"
     ]
    },
    {
     "name": "stderr",
     "output_type": "stream",
     "text": [
      "Cloning into 'Yolov5_DeepSort_Pytorch'...\n",
      "Submodule 'deep_sort/deep/reid' (https://github.com/KaiyangZhou/deep-person-reid) registered for path 'deep_sort/deep/reid'\n",
      "Submodule 'yolov5' (https://github.com/ultralytics/yolov5.git) registered for path 'yolov5'\n",
      "Cloning into 'C:/Users/viers/OneDrive/Bureaublad/MCT/sem4/IndustryProject/IndustryProject/Yolov5_DeepSort_Pytorch/deep_sort/deep/reid'...\n",
      "Cloning into 'C:/Users/viers/OneDrive/Bureaublad/MCT/sem4/IndustryProject/IndustryProject/Yolov5_DeepSort_Pytorch/yolov5'...\n"
     ]
    }
   ],
   "source": [
    "!git clone --recurse-submodules https://github.com/mikel-brostrom/Yolov5_DeepSort_Pytorch.git"
   ]
  },
  {
   "cell_type": "code",
   "execution_count": 10,
   "id": "7204ea58",
   "metadata": {},
   "outputs": [
    {
     "name": "stdout",
     "output_type": "stream",
     "text": [
      "Requirement already satisfied: matplotlib>=3.2.2 in c:\\users\\viers\\onedrive\\bureaublad\\mct\\sem4\\industryproject\\industryproject\\venv\\lib\\site-packages (from -r requirements.txt (line 5)) (3.5.2)\n",
      "Requirement already satisfied: numpy>=1.18.5 in c:\\users\\viers\\onedrive\\bureaublad\\mct\\sem4\\industryproject\\industryproject\\venv\\lib\\site-packages (from -r requirements.txt (line 6)) (1.22.3)\n",
      "Requirement already satisfied: opencv-python>=4.1.2 in c:\\users\\viers\\onedrive\\bureaublad\\mct\\sem4\\industryproject\\industryproject\\venv\\lib\\site-packages (from -r requirements.txt (line 7)) (4.5.5.64)\n",
      "Requirement already satisfied: Pillow>=7.1.2 in c:\\users\\viers\\onedrive\\bureaublad\\mct\\sem4\\industryproject\\industryproject\\venv\\lib\\site-packages (from -r requirements.txt (line 8)) (9.1.1)\n",
      "Requirement already satisfied: PyYAML>=5.3.1 in c:\\users\\viers\\onedrive\\bureaublad\\mct\\sem4\\industryproject\\industryproject\\venv\\lib\\site-packages (from -r requirements.txt (line 9)) (5.4.1)\n",
      "Requirement already satisfied: requests>=2.23.0 in c:\\users\\viers\\onedrive\\bureaublad\\mct\\sem4\\industryproject\\industryproject\\venv\\lib\\site-packages (from -r requirements.txt (line 10)) (2.27.1)\n",
      "Requirement already satisfied: scipy>=1.4.1 in c:\\users\\viers\\onedrive\\bureaublad\\mct\\sem4\\industryproject\\industryproject\\venv\\lib\\site-packages (from -r requirements.txt (line 11)) (1.8.1)\n",
      "Requirement already satisfied: torch>=1.7.0 in c:\\users\\viers\\onedrive\\bureaublad\\mct\\sem4\\industryproject\\industryproject\\venv\\lib\\site-packages (from -r requirements.txt (line 12)) (1.11.0)\n",
      "Requirement already satisfied: torchvision>=0.8.1 in c:\\users\\viers\\onedrive\\bureaublad\\mct\\sem4\\industryproject\\industryproject\\venv\\lib\\site-packages (from -r requirements.txt (line 13)) (0.12.0)\n",
      "Requirement already satisfied: tqdm>=4.41.0 in c:\\users\\viers\\onedrive\\bureaublad\\mct\\sem4\\industryproject\\industryproject\\venv\\lib\\site-packages (from -r requirements.txt (line 14)) (4.64.0)\n",
      "Requirement already satisfied: pandas>=1.1.4 in c:\\users\\viers\\onedrive\\bureaublad\\mct\\sem4\\industryproject\\industryproject\\venv\\lib\\site-packages (from -r requirements.txt (line 18)) (1.4.2)\n",
      "Requirement already satisfied: seaborn>=0.11.0 in c:\\users\\viers\\onedrive\\bureaublad\\mct\\sem4\\industryproject\\industryproject\\venv\\lib\\site-packages (from -r requirements.txt (line 19)) (0.11.2)\n",
      "Requirement already satisfied: easydict in c:\\users\\viers\\onedrive\\bureaublad\\mct\\sem4\\industryproject\\industryproject\\venv\\lib\\site-packages (from -r requirements.txt (line 23)) (1.9)\n",
      "Requirement already satisfied: Cython in c:\\users\\viers\\onedrive\\bureaublad\\mct\\sem4\\industryproject\\industryproject\\venv\\lib\\site-packages (from -r requirements.txt (line 27)) (0.29.30)\n",
      "Requirement already satisfied: h5py in c:\\users\\viers\\onedrive\\bureaublad\\mct\\sem4\\industryproject\\industryproject\\venv\\lib\\site-packages (from -r requirements.txt (line 28)) (3.6.0)\n",
      "Requirement already satisfied: six in c:\\users\\viers\\onedrive\\bureaublad\\mct\\sem4\\industryproject\\industryproject\\venv\\lib\\site-packages (from -r requirements.txt (line 29)) (1.16.0)\n",
      "Collecting tb-nightly\n",
      "  Downloading tb_nightly-2.10.0a20220522-py3-none-any.whl (5.8 MB)\n",
      "     ---------------------------------------- 5.8/5.8 MB 1.4 MB/s eta 0:00:00\n",
      "Collecting future\n",
      "  Downloading future-0.18.2.tar.gz (829 kB)\n",
      "     -------------------------------------- 829.2/829.2 kB 2.8 MB/s eta 0:00:00\n",
      "  Preparing metadata (setup.py): started\n",
      "  Preparing metadata (setup.py): finished with status 'done'\n",
      "Collecting yacs\n",
      "  Downloading yacs-0.1.8-py3-none-any.whl (14 kB)\n",
      "Requirement already satisfied: gdown in c:\\users\\viers\\onedrive\\bureaublad\\mct\\sem4\\industryproject\\industryproject\\venv\\lib\\site-packages (from -r requirements.txt (line 33)) (4.4.0)\n",
      "Collecting flake8\n",
      "  Downloading flake8-4.0.1-py2.py3-none-any.whl (64 kB)\n",
      "     ---------------------------------------- 64.1/64.1 kB 3.4 MB/s eta 0:00:00\n",
      "Collecting yapf\n",
      "  Downloading yapf-0.32.0-py2.py3-none-any.whl (190 kB)\n",
      "     -------------------------------------- 190.2/190.2 kB 2.9 MB/s eta 0:00:00\n",
      "Collecting isort==4.3.21\n",
      "  Using cached isort-4.3.21-py2.py3-none-any.whl (42 kB)\n",
      "Collecting imageio\n",
      "  Using cached imageio-2.19.2-py3-none-any.whl (3.4 MB)\n",
      "Requirement already satisfied: kiwisolver>=1.0.1 in c:\\users\\viers\\onedrive\\bureaublad\\mct\\sem4\\industryproject\\industryproject\\venv\\lib\\site-packages (from matplotlib>=3.2.2->-r requirements.txt (line 5)) (1.4.2)\n",
      "Requirement already satisfied: packaging>=20.0 in c:\\users\\viers\\onedrive\\bureaublad\\mct\\sem4\\industryproject\\industryproject\\venv\\lib\\site-packages (from matplotlib>=3.2.2->-r requirements.txt (line 5)) (21.3)\n",
      "Requirement already satisfied: cycler>=0.10 in c:\\users\\viers\\onedrive\\bureaublad\\mct\\sem4\\industryproject\\industryproject\\venv\\lib\\site-packages (from matplotlib>=3.2.2->-r requirements.txt (line 5)) (0.11.0)\n",
      "Requirement already satisfied: fonttools>=4.22.0 in c:\\users\\viers\\onedrive\\bureaublad\\mct\\sem4\\industryproject\\industryproject\\venv\\lib\\site-packages (from matplotlib>=3.2.2->-r requirements.txt (line 5)) (4.33.3)\n",
      "Requirement already satisfied: pyparsing>=2.2.1 in c:\\users\\viers\\onedrive\\bureaublad\\mct\\sem4\\industryproject\\industryproject\\venv\\lib\\site-packages (from matplotlib>=3.2.2->-r requirements.txt (line 5)) (2.4.7)\n",
      "Requirement already satisfied: python-dateutil>=2.7 in c:\\users\\viers\\onedrive\\bureaublad\\mct\\sem4\\industryproject\\industryproject\\venv\\lib\\site-packages (from matplotlib>=3.2.2->-r requirements.txt (line 5)) (2.8.2)\n",
      "Requirement already satisfied: urllib3<1.27,>=1.21.1 in c:\\users\\viers\\onedrive\\bureaublad\\mct\\sem4\\industryproject\\industryproject\\venv\\lib\\site-packages (from requests>=2.23.0->-r requirements.txt (line 10)) (1.26.9)\n",
      "Requirement already satisfied: charset-normalizer~=2.0.0 in c:\\users\\viers\\onedrive\\bureaublad\\mct\\sem4\\industryproject\\industryproject\\venv\\lib\\site-packages (from requests>=2.23.0->-r requirements.txt (line 10)) (2.0.12)\n",
      "Requirement already satisfied: certifi>=2017.4.17 in c:\\users\\viers\\onedrive\\bureaublad\\mct\\sem4\\industryproject\\industryproject\\venv\\lib\\site-packages (from requests>=2.23.0->-r requirements.txt (line 10)) (2022.5.18.1)\n",
      "Requirement already satisfied: idna<4,>=2.5 in c:\\users\\viers\\onedrive\\bureaublad\\mct\\sem4\\industryproject\\industryproject\\venv\\lib\\site-packages (from requests>=2.23.0->-r requirements.txt (line 10)) (3.3)\n",
      "Requirement already satisfied: typing-extensions in c:\\users\\viers\\onedrive\\bureaublad\\mct\\sem4\\industryproject\\industryproject\\venv\\lib\\site-packages (from torch>=1.7.0->-r requirements.txt (line 12)) (4.2.0)\n",
      "Requirement already satisfied: colorama in c:\\users\\viers\\onedrive\\bureaublad\\mct\\sem4\\industryproject\\industryproject\\venv\\lib\\site-packages (from tqdm>=4.41.0->-r requirements.txt (line 14)) (0.4.4)\n",
      "Requirement already satisfied: pytz>=2020.1 in c:\\users\\viers\\onedrive\\bureaublad\\mct\\sem4\\industryproject\\industryproject\\venv\\lib\\site-packages (from pandas>=1.1.4->-r requirements.txt (line 18)) (2022.1)\n",
      "Requirement already satisfied: google-auth-oauthlib<0.5,>=0.4.1 in c:\\users\\viers\\onedrive\\bureaublad\\mct\\sem4\\industryproject\\industryproject\\venv\\lib\\site-packages (from tb-nightly->-r requirements.txt (line 30)) (0.4.6)\n",
      "Requirement already satisfied: werkzeug>=1.0.1 in c:\\users\\viers\\onedrive\\bureaublad\\mct\\sem4\\industryproject\\industryproject\\venv\\lib\\site-packages (from tb-nightly->-r requirements.txt (line 30)) (2.1.2)\n",
      "Requirement already satisfied: tensorboard-plugin-wit>=1.6.0 in c:\\users\\viers\\onedrive\\bureaublad\\mct\\sem4\\industryproject\\industryproject\\venv\\lib\\site-packages (from tb-nightly->-r requirements.txt (line 30)) (1.8.1)\n",
      "Requirement already satisfied: google-auth<3,>=1.6.3 in c:\\users\\viers\\onedrive\\bureaublad\\mct\\sem4\\industryproject\\industryproject\\venv\\lib\\site-packages (from tb-nightly->-r requirements.txt (line 30)) (2.6.6)\n",
      "Requirement already satisfied: markdown>=2.6.8 in c:\\users\\viers\\onedrive\\bureaublad\\mct\\sem4\\industryproject\\industryproject\\venv\\lib\\site-packages (from tb-nightly->-r requirements.txt (line 30)) (3.3.7)\n",
      "Requirement already satisfied: absl-py>=0.4 in c:\\users\\viers\\onedrive\\bureaublad\\mct\\sem4\\industryproject\\industryproject\\venv\\lib\\site-packages (from tb-nightly->-r requirements.txt (line 30)) (1.0.0)\n",
      "Requirement already satisfied: setuptools>=41.0.0 in c:\\users\\viers\\onedrive\\bureaublad\\mct\\sem4\\industryproject\\industryproject\\venv\\lib\\site-packages (from tb-nightly->-r requirements.txt (line 30)) (58.1.0)\n",
      "Requirement already satisfied: tensorboard-data-server<0.7.0,>=0.6.0 in c:\\users\\viers\\onedrive\\bureaublad\\mct\\sem4\\industryproject\\industryproject\\venv\\lib\\site-packages (from tb-nightly->-r requirements.txt (line 30)) (0.6.1)\n",
      "Requirement already satisfied: wheel>=0.26 in c:\\users\\viers\\onedrive\\bureaublad\\mct\\sem4\\industryproject\\industryproject\\venv\\lib\\site-packages (from tb-nightly->-r requirements.txt (line 30)) (0.37.1)\n",
      "Requirement already satisfied: protobuf>=3.9.2 in c:\\users\\viers\\onedrive\\bureaublad\\mct\\sem4\\industryproject\\industryproject\\venv\\lib\\site-packages (from tb-nightly->-r requirements.txt (line 30)) (3.20.1)\n",
      "Requirement already satisfied: grpcio>=1.24.3 in c:\\users\\viers\\onedrive\\bureaublad\\mct\\sem4\\industryproject\\industryproject\\venv\\lib\\site-packages (from tb-nightly->-r requirements.txt (line 30)) (1.46.1)\n",
      "Requirement already satisfied: beautifulsoup4 in c:\\users\\viers\\onedrive\\bureaublad\\mct\\sem4\\industryproject\\industryproject\\venv\\lib\\site-packages (from gdown->-r requirements.txt (line 33)) (4.11.1)\n",
      "Requirement already satisfied: filelock in c:\\users\\viers\\onedrive\\bureaublad\\mct\\sem4\\industryproject\\industryproject\\venv\\lib\\site-packages (from gdown->-r requirements.txt (line 33)) (3.7.0)\n",
      "Collecting pycodestyle<2.9.0,>=2.8.0\n",
      "  Using cached pycodestyle-2.8.0-py2.py3-none-any.whl (42 kB)\n",
      "Collecting mccabe<0.7.0,>=0.6.0\n",
      "  Using cached mccabe-0.6.1-py2.py3-none-any.whl (8.6 kB)\n",
      "Collecting pyflakes<2.5.0,>=2.4.0\n",
      "  Downloading pyflakes-2.4.0-py2.py3-none-any.whl (69 kB)\n",
      "     ---------------------------------------- 69.7/69.7 kB 4.0 MB/s eta 0:00:00\n",
      "Requirement already satisfied: cachetools<6.0,>=2.0.0 in c:\\users\\viers\\onedrive\\bureaublad\\mct\\sem4\\industryproject\\industryproject\\venv\\lib\\site-packages (from google-auth<3,>=1.6.3->tb-nightly->-r requirements.txt (line 30)) (5.1.0)\n",
      "Requirement already satisfied: rsa<5,>=3.1.4 in c:\\users\\viers\\onedrive\\bureaublad\\mct\\sem4\\industryproject\\industryproject\\venv\\lib\\site-packages (from google-auth<3,>=1.6.3->tb-nightly->-r requirements.txt (line 30)) (4.8)\n",
      "Requirement already satisfied: pyasn1-modules>=0.2.1 in c:\\users\\viers\\onedrive\\bureaublad\\mct\\sem4\\industryproject\\industryproject\\venv\\lib\\site-packages (from google-auth<3,>=1.6.3->tb-nightly->-r requirements.txt (line 30)) (0.2.8)\n",
      "Requirement already satisfied: requests-oauthlib>=0.7.0 in c:\\users\\viers\\onedrive\\bureaublad\\mct\\sem4\\industryproject\\industryproject\\venv\\lib\\site-packages (from google-auth-oauthlib<0.5,>=0.4.1->tb-nightly->-r requirements.txt (line 30)) (1.3.1)\n",
      "Requirement already satisfied: soupsieve>1.2 in c:\\users\\viers\\onedrive\\bureaublad\\mct\\sem4\\industryproject\\industryproject\\venv\\lib\\site-packages (from beautifulsoup4->gdown->-r requirements.txt (line 33)) (2.3.2.post1)\n",
      "Requirement already satisfied: PySocks!=1.5.7,>=1.5.6 in c:\\users\\viers\\onedrive\\bureaublad\\mct\\sem4\\industryproject\\industryproject\\venv\\lib\\site-packages (from requests>=2.23.0->-r requirements.txt (line 10)) (1.7.1)\n",
      "Requirement already satisfied: pyasn1<0.5.0,>=0.4.6 in c:\\users\\viers\\onedrive\\bureaublad\\mct\\sem4\\industryproject\\industryproject\\venv\\lib\\site-packages (from pyasn1-modules>=0.2.1->google-auth<3,>=1.6.3->tb-nightly->-r requirements.txt (line 30)) (0.4.8)\n",
      "Requirement already satisfied: oauthlib>=3.0.0 in c:\\users\\viers\\onedrive\\bureaublad\\mct\\sem4\\industryproject\\industryproject\\venv\\lib\\site-packages (from requests-oauthlib>=0.7.0->google-auth-oauthlib<0.5,>=0.4.1->tb-nightly->-r requirements.txt (line 30)) (3.2.0)\n",
      "Building wheels for collected packages: future\n",
      "  Building wheel for future (setup.py): started\n",
      "  Building wheel for future (setup.py): finished with status 'done'\n",
      "  Created wheel for future: filename=future-0.18.2-py3-none-any.whl size=491070 sha256=d430961c38521b136a305641c7c4f7d1276e85c4f6461bf37326818ef916cb10\n",
      "  Stored in directory: c:\\users\\viers\\appdata\\local\\pip\\cache\\wheels\\22\\73\\06\\557dc4f4ef68179b9d763930d6eec26b88ed7c389b19588a1c\n",
      "Successfully built future\n",
      "Installing collected packages: yapf, mccabe, yacs, pyflakes, pycodestyle, isort, imageio, future, flake8, tb-nightly\n",
      "Successfully installed flake8-4.0.1 future-0.18.2 imageio-2.19.2 isort-4.3.21 mccabe-0.6.1 pycodestyle-2.8.0 pyflakes-2.4.0 tb-nightly-2.10.0a20220522 yacs-0.1.8 yapf-0.32.0\n"
     ]
    }
   ],
   "source": [
    "!pip install -r requirements.txt"
   ]
  },
  {
   "cell_type": "code",
   "execution_count": 14,
   "id": "b7b38663",
   "metadata": {},
   "outputs": [
    {
     "name": "stdout",
     "output_type": "stream",
     "text": [
      "[WinError 2] The system cannot find the file specified: 'Yolov5_DeepSort_Pytorch'\n",
      "C:\\Users\\viers\\OneDrive\\Bureaublad\\MCT\\sem4\\IndustryProject\\IndustryProject\\Yolov5_DeepSort_Pytorch\n"
     ]
    }
   ],
   "source": [
    "cd Yolov5_DeepSort_Pytorch"
   ]
  },
  {
   "cell_type": "code",
   "execution_count": 23,
   "id": "1bee00e5",
   "metadata": {},
   "outputs": [
    {
     "data": {
      "text/plain": [
       "'C:\\\\Users\\\\viers\\\\OneDrive\\\\Bureaublad\\\\MCT\\\\sem4\\\\IndustryProject\\\\IndustryProject\\\\Yolov5_DeepSort_Pytorch'"
      ]
     },
     "execution_count": 23,
     "metadata": {},
     "output_type": "execute_result"
    }
   ],
   "source": [
    "import os\n",
    "os.getcwd()\n",
    "projectPath = \"C:\\\\Users\\\\viers\\\\OneDrive\\\\Bureaublad\\\\MCT\\\\sem4\\\\IndustryProject\\\\IndustryProject\\\\\""
   ]
  },
  {
   "cell_type": "code",
   "execution_count": 24,
   "id": "68474747",
   "metadata": {},
   "outputs": [
    {
     "name": "stdout",
     "output_type": "stream",
     "text": [
      "['videoclip_962035.mp4', 'videoclip_962055.mp4', 'videoclip_962095.mp4', 'videoclip_962105.mp4', 'videoclip_962115.mp4']\n"
     ]
    }
   ],
   "source": [
    "TrainVids = next(os.walk(f\"{projectPath}Data\"), (None, None, []))[2] \n",
    "print(TrainVids)"
   ]
  },
  {
   "cell_type": "code",
   "execution_count": 38,
   "id": "d1da3c03",
   "metadata": {},
   "outputs": [
    {
     "name": "stdout",
     "output_type": "stream",
     "text": [
      "python track.py --yolo_model C:\\Users\\viers\\OneDrive\\Bureaublad\\MCT\\sem4\\IndustryProject\\IndustryProject\\TrainedModels\\YoloV5s_66ep.pt --source C:\\Users\\viers\\OneDrive\\Bureaublad\\MCT\\sem4\\IndustryProject\\IndustryProject\\Data\\videoclip_962105.mp4 --save-vid\n"
     ]
    },
    {
     "name": "stderr",
     "output_type": "stream",
     "text": [
      "IOPub data rate exceeded.\n",
      "The notebook server will temporarily stop sending output\n",
      "to the client in order to avoid crashing it.\n",
      "To change this limit, set the config variable\n",
      "`--NotebookApp.iopub_data_rate_limit`.\n",
      "\n",
      "Current values:\n",
      "NotebookApp.iopub_data_rate_limit=1000000.0 (bytes/sec)\n",
      "NotebookApp.rate_limit_window=3.0 (secs)\n",
      "\n"
     ]
    },
    {
     "name": "stdout",
     "output_type": "stream",
     "text": [
      "\n",
      "Available ReID models for automatic download\n",
      "['resnet50_market1501', 'resnet50_dukemtmcreid', 'resnet50_msmt17', 'resnet50_fc512_market1501', 'resnet50_fc512_dukemtmcreid', 'resnet50_fc512_msmt17', 'mlfn_market1501', 'mlfn_dukemtmcreid', 'mlfn_msmt17', 'hacnn_market1501', 'hacnn_dukemtmcreid', 'hacnn_msmt17', 'mobilenetv2_x1_0_market1501', 'mobilenetv2_x1_0_dukemtmcreid', 'mobilenetv2_x1_0_msmt17', 'mobilenetv2_x1_4_market1501', 'mobilenetv2_x1_4_dukemtmcreid', 'mobilenetv2_x1_4_msmt17', 'osnet_x1_0_market1501', 'osnet_x1_0_dukemtmcreid', 'osnet_x1_0_msmt17', 'osnet_x0_75_market1501', 'osnet_x0_75_dukemtmcreid', 'osnet_x0_75_msmt17', 'osnet_x0_5_market1501', 'osnet_x0_5_dukemtmcreid', 'osnet_x0_5_msmt17', 'osnet_x0_25_market1501', 'osnet_x0_25_dukemtmcreid', 'osnet_x0_25_msmt17', 'resnet50_MSMT17', 'osnet_x1_0_MSMT17', 'osnet_x0_75_MSMT17', 'osnet_x0_5_MSMT17', 'osnet_x0_25_MSMT17', 'osnet_ibn_x1_0_MSMT17', 'osnet_ain_x1_0_MSMT17']\n",
      "Successfully loaded imagenet pretrained weights from \"C:\\Users\\viers/.cache\\torch\\checkpoints\\osnet_x0_25_imagenet.pth\"\n",
      "** The following layers are discarded due to unmatched keys or layer size: ['classifier.weight', 'classifier.bias']\n",
      "Model: osnet_x0_25\n",
      "- params: 203,568\n",
      "- flops: 82,316,000\n"
     ]
    }
   ],
   "source": [
    "command = \"python track.py --yolo_model C:\\\\Users\\\\viers\\\\OneDrive\\\\Bureaublad\\\\MCT\\\\sem4\\\\IndustryProject\\\\IndustryProject\\\\TrainedModels\\\\YoloV5s_66ep.pt --source C:\\\\Users\\\\viers\\\\OneDrive\\\\Bureaublad\\\\MCT\\\\sem4\\\\IndustryProject\\\\IndustryProject\\\\Data\\\\videoclip_962105.mp4 --show-vid --save-vid\"\n",
    "print(command) #classes 0 tracks only ball"
   ]
  },
  {
   "cell_type": "code",
   "execution_count": null,
   "id": "3ed0c5f3",
   "metadata": {},
   "outputs": [],
   "source": []
  }
 ],
 "metadata": {
  "kernelspec": {
   "display_name": "venv",
   "language": "python",
   "name": "venv"
  },
  "language_info": {
   "codemirror_mode": {
    "name": "ipython",
    "version": 3
   },
   "file_extension": ".py",
   "mimetype": "text/x-python",
   "name": "python",
   "nbconvert_exporter": "python",
   "pygments_lexer": "ipython3",
   "version": "3.10.4"
  }
 },
 "nbformat": 4,
 "nbformat_minor": 5
}
